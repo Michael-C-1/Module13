{
  "nbformat": 4,
  "nbformat_minor": 0,
  "metadata": {
    "colab": {
      "name": "Module13.ipynb",
      "provenance": [],
      "collapsed_sections": []
    },
    "kernelspec": {
      "name": "python3",
      "display_name": "Python 3"
    }
  },
  "cells": [
    {
      "cell_type": "markdown",
      "metadata": {
        "id": "VaGPVfmc4hwc"
      },
      "source": [
        "#Question 1\n",
        "Accuracy is the ratio of correct results to all results. You want this when there are as many false results as true results. When there aren't, it's not very helpful.\n",
        "\n",
        "Precision is the ratio of true positives to all positive labels. When precision is high, you'll get a lot of false negatives. You want this if you're trying to sort spam emails.\n",
        "\n",
        "Recall is the ratio of true positives to all positive results. When recall is high, you'll get a lot of false positives. You want this when you're trying to find tumors."
      ]
    },
    {
      "cell_type": "markdown",
      "metadata": {
        "id": "Bz2AD2M-7Azg"
      },
      "source": [
        "#Question 2\n",
        "\n",
        "A confusion matrix shows the number of true positives, true negatives, false positives and false negatives in a 2x2 matrix. The columns represent the labels, and the rows represent what they actually are."
      ]
    },
    {
      "cell_type": "code",
      "metadata": {
        "id": "hTBjACGkHWOW"
      },
      "source": [
        "import scikit learn as sklearn\n",
        "from sklearn.metrics import confusion_matrix\n",
        "y_actu=[]\n",
        "y_pred=[]\n",
        "confusion_matrix(y_actu,y_pred)\n",
        "def accuracy():\n",
        "  return (confusion_matrix[0][0]+confusion_matrix[1][1])/len(confusion_matrix)\n",
        "def f1():\n",
        "  p=precision()\n",
        "  r=recall()\n",
        "  return p*r/(p+r)\n",
        "def precision():\n",
        "  return (confusion_matrix[1][1])/(confusion_matrix[1][1]+consufion_matrix[0][1])\n",
        "def recall():\n",
        "  return (confusion_matrix[1][1])/(confusion_matrix[1][1]+confusion_matrix[1][0])"
      ],
      "execution_count": null,
      "outputs": []
    },
    {
      "cell_type": "markdown",
      "metadata": {
        "id": "MiFqVTcvDx63"
      },
      "source": [
        "#Question 4\n",
        "\n",
        "We use **train.test.split()** to determine how well the model performs by splitting the data into training and testing sets. We split the data to determine how well the model does on sets different from the training data."
      ]
    },
    {
      "cell_type": "markdown",
      "metadata": {
        "id": "n8_AGO0WEY-l"
      },
      "source": [
        "#Question 5\n",
        "The bias vs variance tradeoff says that as variance increases, bias decreases.\n",
        "\n",
        "When bias is high, the model is extremely simple with a small number of variables, which means variance is low.\n",
        "\n",
        "When variance is high, the model is extremely complex with a large number of variables, and the bias is low"
      ]
    }
  ]
}